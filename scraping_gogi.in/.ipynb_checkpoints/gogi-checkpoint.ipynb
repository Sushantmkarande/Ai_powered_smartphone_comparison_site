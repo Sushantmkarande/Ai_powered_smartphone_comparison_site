{
 "cells": [
  {
   "cell_type": "code",
   "execution_count": 69,
   "metadata": {},
   "outputs": [],
   "source": [
    "import pandas as pd"
   ]
  },
  {
   "cell_type": "code",
   "execution_count": 70,
   "metadata": {},
   "outputs": [],
   "source": [
    "train = pd.read_csv('product.csv')"
   ]
  },
  {
   "cell_type": "code",
   "execution_count": 83,
   "metadata": {},
   "outputs": [],
   "source": [
    "train.rename(columns={'Model': 'Name', 'title': 'Short description'}, inplace=True)"
   ]
  },
  {
   "cell_type": "code",
   "execution_count": 84,
   "metadata": {},
   "outputs": [
    {
     "data": {
      "text/html": [
       "<div>\n",
       "<style scoped>\n",
       "    .dataframe tbody tr th:only-of-type {\n",
       "        vertical-align: middle;\n",
       "    }\n",
       "\n",
       "    .dataframe tbody tr th {\n",
       "        vertical-align: top;\n",
       "    }\n",
       "\n",
       "    .dataframe thead th {\n",
       "        text-align: right;\n",
       "    }\n",
       "</style>\n",
       "<table border=\"1\" class=\"dataframe\">\n",
       "  <thead>\n",
       "    <tr style=\"text-align: right;\">\n",
       "      <th></th>\n",
       "      <th>Name</th>\n",
       "      <th>Short description</th>\n",
       "      <th>rate</th>\n",
       "      <th>content</th>\n",
       "      <th>ID</th>\n",
       "    </tr>\n",
       "  </thead>\n",
       "  <tbody>\n",
       "    <tr>\n",
       "      <th>0</th>\n",
       "      <td>Alfawise A8 TV Box</td>\n",
       "      <td>Alfawise A8 TV BOX review – turn your normal T...</td>\n",
       "      <td>4.3</td>\n",
       "      <td>This is the Alfawsie A8 TV Box, if you have a ...</td>\n",
       "      <td>1</td>\n",
       "    </tr>\n",
       "    <tr>\n",
       "      <th>1</th>\n",
       "      <td>Honor Band 4</td>\n",
       "      <td>Honor Band 4 review AMOLED color screen, bette...</td>\n",
       "      <td>5.0</td>\n",
       "      <td>This is the Honor Band 4 that is available on ...</td>\n",
       "      <td>2</td>\n",
       "    </tr>\n",
       "    <tr>\n",
       "      <th>2</th>\n",
       "      <td>PTron Spunk</td>\n",
       "      <td>PTron Spunk review – budget friendly true Blue...</td>\n",
       "      <td>4.5</td>\n",
       "      <td>PTron Spunk is a true Bluetooth wireless earph...</td>\n",
       "      <td>3</td>\n",
       "    </tr>\n",
       "    <tr>\n",
       "      <th>3</th>\n",
       "      <td>EACHLINK H6 Mini TV Box</td>\n",
       "      <td>EACHLINK H6 Mini TV Box review – Android 7 qua...</td>\n",
       "      <td>4.3</td>\n",
       "      <td>This is another TV Box that will make your TV ...</td>\n",
       "      <td>4</td>\n",
       "    </tr>\n",
       "    <tr>\n",
       "      <th>4</th>\n",
       "      <td>SF Rush</td>\n",
       "      <td>SF Rush Fitness Band, basic band for Rs. 999 p...</td>\n",
       "      <td>3.5</td>\n",
       "      <td>This is SF Rush a TATA Product, it is a fitnes...</td>\n",
       "      <td>5</td>\n",
       "    </tr>\n",
       "  </tbody>\n",
       "</table>\n",
       "</div>"
      ],
      "text/plain": [
       "                      Name                                  Short description  \\\n",
       "0       Alfawise A8 TV Box  Alfawise A8 TV BOX review – turn your normal T...   \n",
       "1             Honor Band 4  Honor Band 4 review AMOLED color screen, bette...   \n",
       "2              PTron Spunk  PTron Spunk review – budget friendly true Blue...   \n",
       "3  EACHLINK H6 Mini TV Box  EACHLINK H6 Mini TV Box review – Android 7 qua...   \n",
       "4                  SF Rush  SF Rush Fitness Band, basic band for Rs. 999 p...   \n",
       "\n",
       "   rate                                            content  ID  \n",
       "0   4.3  This is the Alfawsie A8 TV Box, if you have a ...   1  \n",
       "1   5.0  This is the Honor Band 4 that is available on ...   2  \n",
       "2   4.5  PTron Spunk is a true Bluetooth wireless earph...   3  \n",
       "3   4.3  This is another TV Box that will make your TV ...   4  \n",
       "4   3.5  This is SF Rush a TATA Product, it is a fitnes...   5  "
      ]
     },
     "execution_count": 84,
     "metadata": {},
     "output_type": "execute_result"
    }
   ],
   "source": [
    "train.head()"
   ]
  },
  {
   "cell_type": "code",
   "execution_count": 75,
   "metadata": {},
   "outputs": [],
   "source": [
    "train = train.dropna()"
   ]
  },
  {
   "cell_type": "code",
   "execution_count": 76,
   "metadata": {},
   "outputs": [],
   "source": [
    "train['ID'] = train.index + 1"
   ]
  },
  {
   "cell_type": "code",
   "execution_count": 77,
   "metadata": {},
   "outputs": [],
   "source": [
    "modelname = train[['Name', 'ID']]"
   ]
  },
  {
   "cell_type": "code",
   "execution_count": 82,
   "metadata": {},
   "outputs": [
    {
     "data": {
      "text/plain": [
       "'PTron Spunk is a true Bluetooth wireless earphone, it is using the Bluetooth 5.0 technology and is IPX5 certified. In this PTron Spunk review I have shown the content you will get inside the box, talked about features and performance. ,PTron Spunk is priced at just Rs. 2,999 making it the cheapest true Bluetooth earphones you can buy this from Flipkart – ,The earbuds are big but build and finishing is pretty good, body is made of plastic and the button on each of the earbuds are touch sensitive. Inside the box you also get a charging case. Do check the video review for more details.,Bass is rich, vocals audible, overall quality crystal clear. For the price the quality is really good.,Charging Case : 500 mAh battery,\\r\\nBT Ear buds charging time about 1.5 hours,\\r\\nBT Ear buds usage time up to 4 hours on a single charge,\\r\\nBT Technology : Version 5.0,\\r\\nEach Ear buds house 70 mAh battery, Left – 70 mAh, right – 70 mAh total 140 mAh,\\r\\nSupports : HFP1.6, HSP1.1, A2DP1.2, A2DP, AVRCP1.5, SPP1.0, PBAP1.0, Apple Siri, Google Assistant,\\r\\nIPX5 certified that makes is water resistant (splash proof)'"
      ]
     },
     "execution_count": 82,
     "metadata": {},
     "output_type": "execute_result"
    }
   ],
   "source": [
    "train.loc[2][3]"
   ]
  },
  {
   "cell_type": "code",
   "execution_count": 80,
   "metadata": {},
   "outputs": [],
   "source": [
    "modelname.to_csv('modelnames.csv')"
   ]
  },
  {
   "cell_type": "code",
   "execution_count": null,
   "metadata": {},
   "outputs": [],
   "source": []
  }
 ],
 "metadata": {
  "hide_input": false,
  "kernelspec": {
   "display_name": "scrapy",
   "language": "python",
   "name": "scrapy"
  },
  "language_info": {
   "codemirror_mode": {
    "name": "ipython",
    "version": 3
   },
   "file_extension": ".py",
   "mimetype": "text/x-python",
   "name": "python",
   "nbconvert_exporter": "python",
   "pygments_lexer": "ipython3",
   "version": "3.6.7"
  }
 },
 "nbformat": 4,
 "nbformat_minor": 2
}
